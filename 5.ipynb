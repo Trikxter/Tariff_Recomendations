{
 "cells": [
  {
   "cell_type": "markdown",
   "metadata": {},
   "source": [
    "# Рекомендация тарифов"
   ]
  },
  {
   "cell_type": "markdown",
   "metadata": {},
   "source": [
    "В вашем распоряжении данные о поведении клиентов, которые уже перешли на эти тарифы (из проекта курса «Статистический анализ данных»). Нужно построить модель для задачи классификации, которая выберет подходящий тариф. Предобработка данных не понадобится — вы её уже сделали.\n",
    "\n",
    "Постройте модель с максимально большим значением *accuracy*. Чтобы сдать проект успешно, нужно довести долю правильных ответов по крайней мере до 0.75. Проверьте *accuracy* на тестовой выборке самостоятельно."
   ]
  },
  {
   "cell_type": "markdown",
   "metadata": {},
   "source": [
    "## Откройте и изучите файл"
   ]
  },
  {
   "cell_type": "markdown",
   "metadata": {},
   "source": [
    "Импортируем необходимые нам библиотеки"
   ]
  },
  {
   "cell_type": "code",
   "execution_count": 17,
   "metadata": {},
   "outputs": [],
   "source": [
    "import pandas as pd\n",
    "from sklearn.ensemble import RandomForestClassifier\n",
    "from sklearn.linear_model import LinearRegression\n",
    "from sklearn.model_selection import train_test_split\n",
    "from sklearn.tree import DecisionTreeClassifier\n",
    "from sklearn.metrics import mean_squared_error\n",
    "from sklearn.dummy import DummyClassifier"
   ]
  },
  {
   "cell_type": "markdown",
   "metadata": {},
   "source": [
    "Прочитаем датафрейм"
   ]
  },
  {
   "cell_type": "code",
   "execution_count": 18,
   "metadata": {},
   "outputs": [],
   "source": [
    "df_users = pd.read_csv('/datasets/users_behavior.csv')"
   ]
  },
  {
   "cell_type": "markdown",
   "metadata": {},
   "source": [
    "Получим первые 50 строк таблицы"
   ]
  },
  {
   "cell_type": "code",
   "execution_count": 19,
   "metadata": {
    "scrolled": true
   },
   "outputs": [
    {
     "data": {
      "text/html": [
       "<div>\n",
       "<style scoped>\n",
       "    .dataframe tbody tr th:only-of-type {\n",
       "        vertical-align: middle;\n",
       "    }\n",
       "\n",
       "    .dataframe tbody tr th {\n",
       "        vertical-align: top;\n",
       "    }\n",
       "\n",
       "    .dataframe thead th {\n",
       "        text-align: right;\n",
       "    }\n",
       "</style>\n",
       "<table border=\"1\" class=\"dataframe\">\n",
       "  <thead>\n",
       "    <tr style=\"text-align: right;\">\n",
       "      <th></th>\n",
       "      <th>calls</th>\n",
       "      <th>minutes</th>\n",
       "      <th>messages</th>\n",
       "      <th>mb_used</th>\n",
       "      <th>is_ultra</th>\n",
       "    </tr>\n",
       "  </thead>\n",
       "  <tbody>\n",
       "    <tr>\n",
       "      <td>0</td>\n",
       "      <td>40.0</td>\n",
       "      <td>311.90</td>\n",
       "      <td>83.0</td>\n",
       "      <td>19915.42</td>\n",
       "      <td>0</td>\n",
       "    </tr>\n",
       "    <tr>\n",
       "      <td>1</td>\n",
       "      <td>85.0</td>\n",
       "      <td>516.75</td>\n",
       "      <td>56.0</td>\n",
       "      <td>22696.96</td>\n",
       "      <td>0</td>\n",
       "    </tr>\n",
       "    <tr>\n",
       "      <td>2</td>\n",
       "      <td>77.0</td>\n",
       "      <td>467.66</td>\n",
       "      <td>86.0</td>\n",
       "      <td>21060.45</td>\n",
       "      <td>0</td>\n",
       "    </tr>\n",
       "    <tr>\n",
       "      <td>3</td>\n",
       "      <td>106.0</td>\n",
       "      <td>745.53</td>\n",
       "      <td>81.0</td>\n",
       "      <td>8437.39</td>\n",
       "      <td>1</td>\n",
       "    </tr>\n",
       "    <tr>\n",
       "      <td>4</td>\n",
       "      <td>66.0</td>\n",
       "      <td>418.74</td>\n",
       "      <td>1.0</td>\n",
       "      <td>14502.75</td>\n",
       "      <td>0</td>\n",
       "    </tr>\n",
       "    <tr>\n",
       "      <td>5</td>\n",
       "      <td>58.0</td>\n",
       "      <td>344.56</td>\n",
       "      <td>21.0</td>\n",
       "      <td>15823.37</td>\n",
       "      <td>0</td>\n",
       "    </tr>\n",
       "    <tr>\n",
       "      <td>6</td>\n",
       "      <td>57.0</td>\n",
       "      <td>431.64</td>\n",
       "      <td>20.0</td>\n",
       "      <td>3738.90</td>\n",
       "      <td>1</td>\n",
       "    </tr>\n",
       "    <tr>\n",
       "      <td>7</td>\n",
       "      <td>15.0</td>\n",
       "      <td>132.40</td>\n",
       "      <td>6.0</td>\n",
       "      <td>21911.60</td>\n",
       "      <td>0</td>\n",
       "    </tr>\n",
       "    <tr>\n",
       "      <td>8</td>\n",
       "      <td>7.0</td>\n",
       "      <td>43.39</td>\n",
       "      <td>3.0</td>\n",
       "      <td>2538.67</td>\n",
       "      <td>1</td>\n",
       "    </tr>\n",
       "    <tr>\n",
       "      <td>9</td>\n",
       "      <td>90.0</td>\n",
       "      <td>665.41</td>\n",
       "      <td>38.0</td>\n",
       "      <td>17358.61</td>\n",
       "      <td>0</td>\n",
       "    </tr>\n",
       "    <tr>\n",
       "      <td>10</td>\n",
       "      <td>82.0</td>\n",
       "      <td>560.51</td>\n",
       "      <td>20.0</td>\n",
       "      <td>9619.53</td>\n",
       "      <td>1</td>\n",
       "    </tr>\n",
       "    <tr>\n",
       "      <td>11</td>\n",
       "      <td>45.0</td>\n",
       "      <td>344.32</td>\n",
       "      <td>13.0</td>\n",
       "      <td>19898.81</td>\n",
       "      <td>0</td>\n",
       "    </tr>\n",
       "    <tr>\n",
       "      <td>12</td>\n",
       "      <td>51.0</td>\n",
       "      <td>437.13</td>\n",
       "      <td>61.0</td>\n",
       "      <td>21523.58</td>\n",
       "      <td>0</td>\n",
       "    </tr>\n",
       "    <tr>\n",
       "      <td>13</td>\n",
       "      <td>56.0</td>\n",
       "      <td>433.07</td>\n",
       "      <td>16.0</td>\n",
       "      <td>16702.36</td>\n",
       "      <td>0</td>\n",
       "    </tr>\n",
       "    <tr>\n",
       "      <td>14</td>\n",
       "      <td>108.0</td>\n",
       "      <td>587.90</td>\n",
       "      <td>0.0</td>\n",
       "      <td>14406.50</td>\n",
       "      <td>1</td>\n",
       "    </tr>\n",
       "    <tr>\n",
       "      <td>15</td>\n",
       "      <td>6.0</td>\n",
       "      <td>22.13</td>\n",
       "      <td>0.0</td>\n",
       "      <td>2710.09</td>\n",
       "      <td>0</td>\n",
       "    </tr>\n",
       "    <tr>\n",
       "      <td>16</td>\n",
       "      <td>2.0</td>\n",
       "      <td>18.73</td>\n",
       "      <td>0.0</td>\n",
       "      <td>588.89</td>\n",
       "      <td>0</td>\n",
       "    </tr>\n",
       "    <tr>\n",
       "      <td>17</td>\n",
       "      <td>26.0</td>\n",
       "      <td>163.62</td>\n",
       "      <td>4.0</td>\n",
       "      <td>16870.34</td>\n",
       "      <td>0</td>\n",
       "    </tr>\n",
       "    <tr>\n",
       "      <td>18</td>\n",
       "      <td>79.0</td>\n",
       "      <td>532.62</td>\n",
       "      <td>90.0</td>\n",
       "      <td>19908.31</td>\n",
       "      <td>0</td>\n",
       "    </tr>\n",
       "    <tr>\n",
       "      <td>19</td>\n",
       "      <td>49.0</td>\n",
       "      <td>341.67</td>\n",
       "      <td>81.0</td>\n",
       "      <td>11770.28</td>\n",
       "      <td>1</td>\n",
       "    </tr>\n",
       "    <tr>\n",
       "      <td>20</td>\n",
       "      <td>93.0</td>\n",
       "      <td>691.37</td>\n",
       "      <td>31.0</td>\n",
       "      <td>25950.28</td>\n",
       "      <td>1</td>\n",
       "    </tr>\n",
       "    <tr>\n",
       "      <td>21</td>\n",
       "      <td>56.0</td>\n",
       "      <td>411.46</td>\n",
       "      <td>97.0</td>\n",
       "      <td>15393.91</td>\n",
       "      <td>0</td>\n",
       "    </tr>\n",
       "    <tr>\n",
       "      <td>22</td>\n",
       "      <td>48.0</td>\n",
       "      <td>351.60</td>\n",
       "      <td>66.0</td>\n",
       "      <td>16469.90</td>\n",
       "      <td>1</td>\n",
       "    </tr>\n",
       "    <tr>\n",
       "      <td>23</td>\n",
       "      <td>11.0</td>\n",
       "      <td>96.05</td>\n",
       "      <td>19.0</td>\n",
       "      <td>2305.74</td>\n",
       "      <td>0</td>\n",
       "    </tr>\n",
       "    <tr>\n",
       "      <td>24</td>\n",
       "      <td>56.0</td>\n",
       "      <td>360.30</td>\n",
       "      <td>30.0</td>\n",
       "      <td>13560.15</td>\n",
       "      <td>0</td>\n",
       "    </tr>\n",
       "    <tr>\n",
       "      <td>25</td>\n",
       "      <td>53.0</td>\n",
       "      <td>356.22</td>\n",
       "      <td>52.0</td>\n",
       "      <td>22471.77</td>\n",
       "      <td>0</td>\n",
       "    </tr>\n",
       "    <tr>\n",
       "      <td>26</td>\n",
       "      <td>81.0</td>\n",
       "      <td>624.71</td>\n",
       "      <td>38.0</td>\n",
       "      <td>8644.66</td>\n",
       "      <td>1</td>\n",
       "    </tr>\n",
       "    <tr>\n",
       "      <td>27</td>\n",
       "      <td>154.0</td>\n",
       "      <td>1078.64</td>\n",
       "      <td>48.0</td>\n",
       "      <td>29335.15</td>\n",
       "      <td>1</td>\n",
       "    </tr>\n",
       "    <tr>\n",
       "      <td>28</td>\n",
       "      <td>37.0</td>\n",
       "      <td>286.68</td>\n",
       "      <td>44.0</td>\n",
       "      <td>19542.45</td>\n",
       "      <td>0</td>\n",
       "    </tr>\n",
       "    <tr>\n",
       "      <td>29</td>\n",
       "      <td>50.0</td>\n",
       "      <td>358.01</td>\n",
       "      <td>44.0</td>\n",
       "      <td>9998.83</td>\n",
       "      <td>1</td>\n",
       "    </tr>\n",
       "    <tr>\n",
       "      <td>30</td>\n",
       "      <td>41.0</td>\n",
       "      <td>276.81</td>\n",
       "      <td>0.0</td>\n",
       "      <td>19815.62</td>\n",
       "      <td>0</td>\n",
       "    </tr>\n",
       "    <tr>\n",
       "      <td>31</td>\n",
       "      <td>10.0</td>\n",
       "      <td>77.09</td>\n",
       "      <td>31.0</td>\n",
       "      <td>643.15</td>\n",
       "      <td>0</td>\n",
       "    </tr>\n",
       "    <tr>\n",
       "      <td>32</td>\n",
       "      <td>71.0</td>\n",
       "      <td>530.13</td>\n",
       "      <td>27.0</td>\n",
       "      <td>20698.51</td>\n",
       "      <td>0</td>\n",
       "    </tr>\n",
       "    <tr>\n",
       "      <td>33</td>\n",
       "      <td>65.0</td>\n",
       "      <td>482.35</td>\n",
       "      <td>7.0</td>\n",
       "      <td>23064.58</td>\n",
       "      <td>1</td>\n",
       "    </tr>\n",
       "    <tr>\n",
       "      <td>34</td>\n",
       "      <td>110.0</td>\n",
       "      <td>776.85</td>\n",
       "      <td>9.0</td>\n",
       "      <td>20790.93</td>\n",
       "      <td>1</td>\n",
       "    </tr>\n",
       "    <tr>\n",
       "      <td>35</td>\n",
       "      <td>120.0</td>\n",
       "      <td>814.85</td>\n",
       "      <td>0.0</td>\n",
       "      <td>20427.00</td>\n",
       "      <td>1</td>\n",
       "    </tr>\n",
       "    <tr>\n",
       "      <td>36</td>\n",
       "      <td>76.0</td>\n",
       "      <td>543.18</td>\n",
       "      <td>43.0</td>\n",
       "      <td>31845.11</td>\n",
       "      <td>1</td>\n",
       "    </tr>\n",
       "    <tr>\n",
       "      <td>37</td>\n",
       "      <td>64.0</td>\n",
       "      <td>422.69</td>\n",
       "      <td>0.0</td>\n",
       "      <td>11460.29</td>\n",
       "      <td>0</td>\n",
       "    </tr>\n",
       "    <tr>\n",
       "      <td>38</td>\n",
       "      <td>23.0</td>\n",
       "      <td>146.18</td>\n",
       "      <td>33.0</td>\n",
       "      <td>9711.45</td>\n",
       "      <td>0</td>\n",
       "    </tr>\n",
       "    <tr>\n",
       "      <td>39</td>\n",
       "      <td>81.0</td>\n",
       "      <td>519.48</td>\n",
       "      <td>34.0</td>\n",
       "      <td>12750.82</td>\n",
       "      <td>0</td>\n",
       "    </tr>\n",
       "    <tr>\n",
       "      <td>40</td>\n",
       "      <td>34.0</td>\n",
       "      <td>183.28</td>\n",
       "      <td>0.0</td>\n",
       "      <td>18631.66</td>\n",
       "      <td>0</td>\n",
       "    </tr>\n",
       "    <tr>\n",
       "      <td>41</td>\n",
       "      <td>11.0</td>\n",
       "      <td>85.31</td>\n",
       "      <td>7.0</td>\n",
       "      <td>10764.82</td>\n",
       "      <td>1</td>\n",
       "    </tr>\n",
       "    <tr>\n",
       "      <td>42</td>\n",
       "      <td>48.0</td>\n",
       "      <td>392.04</td>\n",
       "      <td>0.0</td>\n",
       "      <td>19122.13</td>\n",
       "      <td>0</td>\n",
       "    </tr>\n",
       "    <tr>\n",
       "      <td>43</td>\n",
       "      <td>50.0</td>\n",
       "      <td>323.99</td>\n",
       "      <td>10.0</td>\n",
       "      <td>20922.05</td>\n",
       "      <td>1</td>\n",
       "    </tr>\n",
       "    <tr>\n",
       "      <td>44</td>\n",
       "      <td>98.0</td>\n",
       "      <td>665.56</td>\n",
       "      <td>106.0</td>\n",
       "      <td>19538.83</td>\n",
       "      <td>0</td>\n",
       "    </tr>\n",
       "    <tr>\n",
       "      <td>45</td>\n",
       "      <td>35.0</td>\n",
       "      <td>235.58</td>\n",
       "      <td>97.0</td>\n",
       "      <td>20710.71</td>\n",
       "      <td>0</td>\n",
       "    </tr>\n",
       "    <tr>\n",
       "      <td>46</td>\n",
       "      <td>76.0</td>\n",
       "      <td>535.91</td>\n",
       "      <td>65.0</td>\n",
       "      <td>11968.22</td>\n",
       "      <td>0</td>\n",
       "    </tr>\n",
       "    <tr>\n",
       "      <td>47</td>\n",
       "      <td>49.0</td>\n",
       "      <td>327.45</td>\n",
       "      <td>0.0</td>\n",
       "      <td>12049.91</td>\n",
       "      <td>1</td>\n",
       "    </tr>\n",
       "    <tr>\n",
       "      <td>48</td>\n",
       "      <td>5.0</td>\n",
       "      <td>49.95</td>\n",
       "      <td>17.0</td>\n",
       "      <td>3370.69</td>\n",
       "      <td>1</td>\n",
       "    </tr>\n",
       "    <tr>\n",
       "      <td>49</td>\n",
       "      <td>58.0</td>\n",
       "      <td>474.92</td>\n",
       "      <td>11.0</td>\n",
       "      <td>17858.59</td>\n",
       "      <td>0</td>\n",
       "    </tr>\n",
       "  </tbody>\n",
       "</table>\n",
       "</div>"
      ],
      "text/plain": [
       "    calls  minutes  messages   mb_used  is_ultra\n",
       "0    40.0   311.90      83.0  19915.42         0\n",
       "1    85.0   516.75      56.0  22696.96         0\n",
       "2    77.0   467.66      86.0  21060.45         0\n",
       "3   106.0   745.53      81.0   8437.39         1\n",
       "4    66.0   418.74       1.0  14502.75         0\n",
       "5    58.0   344.56      21.0  15823.37         0\n",
       "6    57.0   431.64      20.0   3738.90         1\n",
       "7    15.0   132.40       6.0  21911.60         0\n",
       "8     7.0    43.39       3.0   2538.67         1\n",
       "9    90.0   665.41      38.0  17358.61         0\n",
       "10   82.0   560.51      20.0   9619.53         1\n",
       "11   45.0   344.32      13.0  19898.81         0\n",
       "12   51.0   437.13      61.0  21523.58         0\n",
       "13   56.0   433.07      16.0  16702.36         0\n",
       "14  108.0   587.90       0.0  14406.50         1\n",
       "15    6.0    22.13       0.0   2710.09         0\n",
       "16    2.0    18.73       0.0    588.89         0\n",
       "17   26.0   163.62       4.0  16870.34         0\n",
       "18   79.0   532.62      90.0  19908.31         0\n",
       "19   49.0   341.67      81.0  11770.28         1\n",
       "20   93.0   691.37      31.0  25950.28         1\n",
       "21   56.0   411.46      97.0  15393.91         0\n",
       "22   48.0   351.60      66.0  16469.90         1\n",
       "23   11.0    96.05      19.0   2305.74         0\n",
       "24   56.0   360.30      30.0  13560.15         0\n",
       "25   53.0   356.22      52.0  22471.77         0\n",
       "26   81.0   624.71      38.0   8644.66         1\n",
       "27  154.0  1078.64      48.0  29335.15         1\n",
       "28   37.0   286.68      44.0  19542.45         0\n",
       "29   50.0   358.01      44.0   9998.83         1\n",
       "30   41.0   276.81       0.0  19815.62         0\n",
       "31   10.0    77.09      31.0    643.15         0\n",
       "32   71.0   530.13      27.0  20698.51         0\n",
       "33   65.0   482.35       7.0  23064.58         1\n",
       "34  110.0   776.85       9.0  20790.93         1\n",
       "35  120.0   814.85       0.0  20427.00         1\n",
       "36   76.0   543.18      43.0  31845.11         1\n",
       "37   64.0   422.69       0.0  11460.29         0\n",
       "38   23.0   146.18      33.0   9711.45         0\n",
       "39   81.0   519.48      34.0  12750.82         0\n",
       "40   34.0   183.28       0.0  18631.66         0\n",
       "41   11.0    85.31       7.0  10764.82         1\n",
       "42   48.0   392.04       0.0  19122.13         0\n",
       "43   50.0   323.99      10.0  20922.05         1\n",
       "44   98.0   665.56     106.0  19538.83         0\n",
       "45   35.0   235.58      97.0  20710.71         0\n",
       "46   76.0   535.91      65.0  11968.22         0\n",
       "47   49.0   327.45       0.0  12049.91         1\n",
       "48    5.0    49.95      17.0   3370.69         1\n",
       "49   58.0   474.92      11.0  17858.59         0"
      ]
     },
     "execution_count": 19,
     "metadata": {},
     "output_type": "execute_result"
    }
   ],
   "source": [
    "df_users.head(50)"
   ]
  },
  {
   "cell_type": "markdown",
   "metadata": {},
   "source": [
    "Вывод: Наблюдаем из 50 первых строчек только 19 записей с тарифом \"Ультра\", то есть архивных тарифов 31, что достаточно много."
   ]
  },
  {
   "cell_type": "markdown",
   "metadata": {},
   "source": [
    "## Разбейте данные на выборки"
   ]
  },
  {
   "cell_type": "markdown",
   "metadata": {},
   "source": [
    "Разобьём данные на три выборки - тренировочную и валидационную и тестовую, предварительно разбив валидационную выборку ещё раз на валидационную и тестовую в соотношении 60-20-20"
   ]
  },
  {
   "cell_type": "code",
   "execution_count": 20,
   "metadata": {},
   "outputs": [],
   "source": [
    "df_users_train, df_users_valid = train_test_split(df_users, test_size=0.40, random_state=12345)\n",
    "df_users_valid,df_users_test = train_test_split(df_users_valid,test_size = 0.50,random_state = 12345)\n"
   ]
  },
  {
   "cell_type": "code",
   "execution_count": 21,
   "metadata": {},
   "outputs": [
    {
     "data": {
      "text/plain": [
       "0.5998755444928439"
      ]
     },
     "execution_count": 21,
     "metadata": {},
     "output_type": "execute_result"
    }
   ],
   "source": [
    "len(df_users_train) / (len(df_users_train) + len(df_users_valid) + len(df_users_test))"
   ]
  },
  {
   "cell_type": "code",
   "execution_count": 22,
   "metadata": {},
   "outputs": [
    {
     "data": {
      "text/plain": [
       "0.2000622277535781"
      ]
     },
     "execution_count": 22,
     "metadata": {},
     "output_type": "execute_result"
    }
   ],
   "source": [
    "len(df_users_valid) / (len(df_users_train) + len(df_users_valid) + len(df_users_test))"
   ]
  },
  {
   "cell_type": "code",
   "execution_count": 23,
   "metadata": {},
   "outputs": [
    {
     "data": {
      "text/plain": [
       "0.2000622277535781"
      ]
     },
     "execution_count": 23,
     "metadata": {},
     "output_type": "execute_result"
    }
   ],
   "source": [
    "len(df_users_test) / (len(df_users_train) + len(df_users_valid) + len(df_users_test))"
   ]
  },
  {
   "cell_type": "markdown",
   "metadata": {},
   "source": [
    "## Исследуйте модели"
   ]
  },
  {
   "cell_type": "markdown",
   "metadata": {},
   "source": [
    "Создадим переменные для признаков и целевого признака.\n",
    "Целевой признак - \"is_ultra\""
   ]
  },
  {
   "cell_type": "code",
   "execution_count": 24,
   "metadata": {},
   "outputs": [],
   "source": [
    "features_test = df_users_test.drop(['is_ultra'], axis=1)\n",
    "target_test = df_users_test['is_ultra'] \n",
    "features_train = df_users_train.drop(['is_ultra'], axis=1)\n",
    "target_train = df_users_train['is_ultra']\n",
    "features_valid = df_users_valid.drop(['is_ultra'], axis=1)\n",
    "target_valid = df_users_valid['is_ultra']"
   ]
  },
  {
   "cell_type": "markdown",
   "metadata": {},
   "source": [
    "Посчитаем accuracy в модели \"случайного леса\""
   ]
  },
  {
   "cell_type": "code",
   "execution_count": 25,
   "metadata": {},
   "outputs": [
    {
     "name": "stdout",
     "output_type": "stream",
     "text": [
      "Accuracy наилучшей модели на валидационной выборке: 0.7853810264385692\n"
     ]
    }
   ],
   "source": [
    "best_forest_model = None\n",
    "best_forest_result = 0\n",
    "for est in range(1, 11):\n",
    "    \n",
    "    forest_model = RandomForestClassifier(random_state=12345, n_estimators=est) \n",
    "    forest_model.fit(features_train, target_train)\n",
    "    forest_result = forest_model.score(features_valid, target_valid) \n",
    "    if forest_result > best_forest_result:\n",
    "        best_forest_model = forest_model\n",
    "        best_forest_result = forest_result\n",
    "\n",
    "print(\"Accuracy наилучшей модели на валидационной выборке:\", best_forest_result)"
   ]
  },
  {
   "cell_type": "markdown",
   "metadata": {},
   "source": [
    "Посчитаем accuracy на валидационной выборке для линейной регрессии"
   ]
  },
  {
   "cell_type": "code",
   "execution_count": 26,
   "metadata": {},
   "outputs": [
    {
     "name": "stdout",
     "output_type": "stream",
     "text": [
      "Accuracy модели линейной регрессии на валидационной выборке: 0.06970225670616292\n"
     ]
    }
   ],
   "source": [
    "linear_model =  LinearRegression()\n",
    "linear_model.fit(features_train,target_train) \n",
    "predictions_valid = linear_model.predict(features_valid) \n",
    "\n",
    "linear_result = linear_model.score(features_valid, target_valid)\n",
    "print(\"Accuracy модели линейной регрессии на валидационной выборке:\", linear_result)"
   ]
  },
  {
   "cell_type": "markdown",
   "metadata": {},
   "source": [
    "Посчитаем accuracy наилучшей модели"
   ]
  },
  {
   "cell_type": "code",
   "execution_count": 27,
   "metadata": {},
   "outputs": [
    {
     "name": "stdout",
     "output_type": "stream",
     "text": [
      "Accuracy наилучшей модели на валидационной выборке: 0.7853810264385692\n"
     ]
    }
   ],
   "source": [
    "best_forest_decisions_model = None\n",
    "best_forest_decisions_result = 0\n",
    "for est in range(1, 11):\n",
    "    \n",
    "    forest_decisions_model = RandomForestClassifier(random_state=12345, n_estimators=est,max_depth = 40,criterion = 'entropy') \n",
    "    forest_decisions_model.fit(features_train, target_train)\n",
    "    forest_decisions_result = forest_decisions_model.score(features_valid, target_valid) \n",
    "    if forest_decisions_result > best_forest_decisions_result:\n",
    "        best_forest_decisions_model = forest_decisions_model\n",
    "        best_forest_decisions_result = forest_decisions_result\n",
    "        \n",
    "print(\"Accuracy наилучшей модели на валидационной выборке:\", best_forest_decisions_result)"
   ]
  },
  {
   "cell_type": "markdown",
   "metadata": {},
   "source": [
    "Добавил ещё 2 признака"
   ]
  },
  {
   "cell_type": "markdown",
   "metadata": {},
   "source": [
    "## Проверьте модель на тестовой выборке"
   ]
  },
  {
   "cell_type": "markdown",
   "metadata": {},
   "source": [
    "Проверим модель на тестовой выборке \"случайного леса\""
   ]
  },
  {
   "cell_type": "code",
   "execution_count": 28,
   "metadata": {},
   "outputs": [
    {
     "name": "stdout",
     "output_type": "stream",
     "text": [
      "Accuracy наилучшей модели на валидационной выборке: 0.7869362363919129\n"
     ]
    }
   ],
   "source": [
    "best_forest_model_test = None\n",
    "best_forest_result_test = 0\n",
    "for est in range(1, 11):\n",
    "    \n",
    "    forest_model_test = RandomForestClassifier(random_state=12345, n_estimators=est) \n",
    "    forest_model_test.fit(features_train, target_train)\n",
    "    forest_result_test = forest_model_test.score(features_test, target_test) \n",
    "    if forest_result_test > best_forest_result_test:\n",
    "        best_forest_model_test = forest_model_test\n",
    "        best_forest_result_test = forest_result_test\n",
    "\n",
    "print(\"Accuracy наилучшей модели на валидационной выборке:\", best_forest_result_test)"
   ]
  },
  {
   "cell_type": "markdown",
   "metadata": {},
   "source": [
    "##  Проверьте модели на адекватность"
   ]
  },
  {
   "cell_type": "markdown",
   "metadata": {},
   "source": [
    "Для проверки на вменяемость возьмём и проверим со случайной моделью DummyClassifier."
   ]
  },
  {
   "cell_type": "code",
   "execution_count": 31,
   "metadata": {},
   "outputs": [
    {
     "name": "stdout",
     "output_type": "stream",
     "text": [
      "Accuracy dummy-модели на тестовой выборке: 0.6842923794712286\n",
      "Accuracy нашей модели на тестовой выборке: 0.7807153965785381\n"
     ]
    }
   ],
   "source": [
    "dummy_clf = DummyClassifier(strategy=\"most_frequent\",random_state = 12345)\n",
    "dummy_clf.fit(features_train, target_train)\n",
    "print(\"Accuracy dummy-модели на тестовой выборке:\",dummy_clf.score(features_test, target_test))\n",
    "print(\"Accuracy нашей модели на тестовой выборке:\",forest_model_test.score(features_test, target_test))"
   ]
  },
  {
   "cell_type": "markdown",
   "metadata": {},
   "source": [
    "Вывод:Наша модель более вменяема и предсказывает лучше."
   ]
  },
  {
   "cell_type": "markdown",
   "metadata": {},
   "source": [
    "## Чек-лист готовности проекта"
   ]
  },
  {
   "cell_type": "markdown",
   "metadata": {},
   "source": [
    "Поставьте 'x' в выполненных пунктах. Далее нажмите Shift+Enter."
   ]
  },
  {
   "cell_type": "markdown",
   "metadata": {},
   "source": [
    "- [x] Jupyter Notebook открыт\n",
    "- [x] Весь код исполняется без ошибок\n",
    "- [x] Ячейки с кодом расположены в порядке исполнения\n",
    "- [x] Выполнено задание 1: данные загружены и изучены\n",
    "- [x] Выполнено задание 2: данные разбиты на три выборки\n",
    "- [x] Выполнено задание 3: проведено исследование моделей\n",
    "    - [x] Рассмотрено больше одной модели\n",
    "    - [x] Рассмотрено хотя бы 3 значения гипепараметров для какой-нибудь модели\n",
    "    - [x] Написаны выводы по результатам исследования\n",
    "- [x] Выполнено задание 3: Проведено тестирование\n",
    "- [x] Удалось достичь accuracy не меньше 0.75\n"
   ]
  }
 ],
 "metadata": {
  "ExecuteTimeLog": [
   {
    "duration": 354,
    "start_time": "2021-06-19T19:54:31.879Z"
   },
   {
    "duration": 287,
    "start_time": "2021-06-19T19:55:37.461Z"
   },
   {
    "duration": 1893,
    "start_time": "2021-06-19T19:55:41.656Z"
   },
   {
    "duration": 25,
    "start_time": "2021-06-19T19:55:44.728Z"
   },
   {
    "duration": 27,
    "start_time": "2021-06-19T19:56:13.889Z"
   },
   {
    "duration": 1469,
    "start_time": "2021-06-22T13:52:56.134Z"
   },
   {
    "duration": 20,
    "start_time": "2021-06-22T13:52:57.605Z"
   },
   {
    "duration": 29,
    "start_time": "2021-06-22T13:52:57.628Z"
   },
   {
    "duration": 376,
    "start_time": "2021-06-22T13:52:57.667Z"
   },
   {
    "duration": 245,
    "start_time": "2021-06-22T13:54:13.782Z"
   },
   {
    "duration": 7,
    "start_time": "2021-06-22T13:54:24.461Z"
   },
   {
    "duration": 1089,
    "start_time": "2021-06-23T06:47:56.579Z"
   },
   {
    "duration": 20,
    "start_time": "2021-06-23T06:47:57.670Z"
   },
   {
    "duration": 19,
    "start_time": "2021-06-23T06:47:57.692Z"
   },
   {
    "duration": 4,
    "start_time": "2021-06-23T06:47:57.713Z"
   },
   {
    "duration": 4,
    "start_time": "2021-06-23T06:47:57.718Z"
   },
   {
    "duration": 263,
    "start_time": "2021-06-23T06:47:57.724Z"
   },
   {
    "duration": 3,
    "start_time": "2021-06-23T06:48:35.901Z"
   },
   {
    "duration": 26,
    "start_time": "2021-06-23T06:48:35.906Z"
   },
   {
    "duration": 22,
    "start_time": "2021-06-23T06:48:35.934Z"
   },
   {
    "duration": 5,
    "start_time": "2021-06-23T06:48:35.958Z"
   },
   {
    "duration": 6,
    "start_time": "2021-06-23T06:48:35.965Z"
   },
   {
    "duration": 198,
    "start_time": "2021-06-23T06:48:35.972Z"
   },
   {
    "duration": 33,
    "start_time": "2021-06-23T06:49:26.262Z"
   },
   {
    "duration": 19,
    "start_time": "2021-06-23T06:49:26.297Z"
   },
   {
    "duration": 15,
    "start_time": "2021-06-23T06:49:26.318Z"
   },
   {
    "duration": 4,
    "start_time": "2021-06-23T06:49:26.334Z"
   },
   {
    "duration": 5,
    "start_time": "2021-06-23T06:49:26.339Z"
   },
   {
    "duration": 200,
    "start_time": "2021-06-23T06:49:26.346Z"
   },
   {
    "duration": 2,
    "start_time": "2021-06-23T06:52:07.168Z"
   },
   {
    "duration": 19,
    "start_time": "2021-06-23T06:52:07.182Z"
   },
   {
    "duration": 14,
    "start_time": "2021-06-23T06:52:07.203Z"
   },
   {
    "duration": 3,
    "start_time": "2021-06-23T06:52:07.219Z"
   },
   {
    "duration": 5,
    "start_time": "2021-06-23T06:52:07.223Z"
   },
   {
    "duration": 184,
    "start_time": "2021-06-23T06:52:07.235Z"
   },
   {
    "duration": 3,
    "start_time": "2021-06-23T06:52:37.018Z"
   },
   {
    "duration": 19,
    "start_time": "2021-06-23T06:52:37.025Z"
   },
   {
    "duration": 13,
    "start_time": "2021-06-23T06:52:37.046Z"
   },
   {
    "duration": 4,
    "start_time": "2021-06-23T06:52:37.060Z"
   },
   {
    "duration": 4,
    "start_time": "2021-06-23T06:52:37.065Z"
   },
   {
    "duration": 179,
    "start_time": "2021-06-23T06:52:37.072Z"
   },
   {
    "duration": 3,
    "start_time": "2021-06-23T06:53:28.197Z"
   },
   {
    "duration": 20,
    "start_time": "2021-06-23T06:53:28.202Z"
   },
   {
    "duration": 14,
    "start_time": "2021-06-23T06:53:28.223Z"
   },
   {
    "duration": 4,
    "start_time": "2021-06-23T06:53:28.238Z"
   },
   {
    "duration": 4,
    "start_time": "2021-06-23T06:53:28.243Z"
   },
   {
    "duration": 260,
    "start_time": "2021-06-23T06:53:28.249Z"
   },
   {
    "duration": 187,
    "start_time": "2021-06-23T07:00:45.002Z"
   },
   {
    "duration": 3,
    "start_time": "2021-06-23T07:00:52.119Z"
   },
   {
    "duration": 8,
    "start_time": "2021-06-23T07:00:56.906Z"
   },
   {
    "duration": 3,
    "start_time": "2021-06-23T07:03:03.837Z"
   },
   {
    "duration": 20,
    "start_time": "2021-06-23T07:03:03.843Z"
   },
   {
    "duration": 14,
    "start_time": "2021-06-23T07:03:03.865Z"
   },
   {
    "duration": 6,
    "start_time": "2021-06-23T07:03:03.881Z"
   },
   {
    "duration": 6,
    "start_time": "2021-06-23T07:03:03.888Z"
   },
   {
    "duration": 272,
    "start_time": "2021-06-23T07:03:03.897Z"
   },
   {
    "duration": 16,
    "start_time": "2021-06-23T07:03:04.170Z"
   },
   {
    "duration": 3,
    "start_time": "2021-06-23T07:04:28.209Z"
   },
   {
    "duration": 3,
    "start_time": "2021-06-23T07:07:58.190Z"
   },
   {
    "duration": 25,
    "start_time": "2021-06-23T07:08:03.381Z"
   },
   {
    "duration": 25,
    "start_time": "2021-06-23T07:08:27.672Z"
   },
   {
    "duration": 30,
    "start_time": "2021-06-23T07:08:44.949Z"
   },
   {
    "duration": 21,
    "start_time": "2021-06-23T07:08:51.078Z"
   },
   {
    "duration": 16,
    "start_time": "2021-06-23T07:08:56.610Z"
   },
   {
    "duration": 50,
    "start_time": "2021-06-23T07:09:02.600Z"
   },
   {
    "duration": 55,
    "start_time": "2021-06-23T07:09:12.140Z"
   },
   {
    "duration": 52,
    "start_time": "2021-06-23T07:09:17.650Z"
   },
   {
    "duration": 50,
    "start_time": "2021-06-23T07:10:04.183Z"
   },
   {
    "duration": 48,
    "start_time": "2021-06-23T07:10:13.357Z"
   },
   {
    "duration": 970,
    "start_time": "2021-06-23T07:10:18.655Z"
   },
   {
    "duration": 3,
    "start_time": "2021-06-23T07:15:49.210Z"
   },
   {
    "duration": 28,
    "start_time": "2021-06-23T07:15:49.216Z"
   },
   {
    "duration": 14,
    "start_time": "2021-06-23T07:15:49.246Z"
   },
   {
    "duration": 12,
    "start_time": "2021-06-23T07:15:49.262Z"
   },
   {
    "duration": 13,
    "start_time": "2021-06-23T07:15:49.275Z"
   },
   {
    "duration": 287,
    "start_time": "2021-06-23T07:15:49.290Z"
   },
   {
    "duration": 14,
    "start_time": "2021-06-23T07:15:49.579Z"
   },
   {
    "duration": 50,
    "start_time": "2021-06-23T07:15:49.596Z"
   },
   {
    "duration": 3,
    "start_time": "2021-06-23T07:20:15.178Z"
   },
   {
    "duration": 21,
    "start_time": "2021-06-23T07:20:15.184Z"
   },
   {
    "duration": 14,
    "start_time": "2021-06-23T07:20:15.207Z"
   },
   {
    "duration": 4,
    "start_time": "2021-06-23T07:20:15.223Z"
   },
   {
    "duration": 4,
    "start_time": "2021-06-23T07:20:15.229Z"
   },
   {
    "duration": 283,
    "start_time": "2021-06-23T07:20:15.234Z"
   },
   {
    "duration": 8,
    "start_time": "2021-06-23T07:20:15.519Z"
   },
   {
    "duration": 88,
    "start_time": "2021-06-23T07:20:15.529Z"
   },
   {
    "duration": 966,
    "start_time": "2021-06-23T07:20:41.548Z"
   },
   {
    "duration": 20,
    "start_time": "2021-06-23T07:20:42.516Z"
   },
   {
    "duration": 21,
    "start_time": "2021-06-23T07:20:42.538Z"
   },
   {
    "duration": 2,
    "start_time": "2021-06-23T07:20:42.561Z"
   },
   {
    "duration": 3,
    "start_time": "2021-06-23T07:20:42.565Z"
   },
   {
    "duration": 283,
    "start_time": "2021-06-23T07:20:42.570Z"
   },
   {
    "duration": 3422,
    "start_time": "2021-06-23T07:20:39.433Z"
   },
   {
    "duration": 3418,
    "start_time": "2021-06-23T07:20:39.438Z"
   },
   {
    "duration": 444,
    "start_time": "2021-06-23T07:21:03.136Z"
   },
   {
    "duration": 264,
    "start_time": "2021-06-23T07:21:15.261Z"
   },
   {
    "duration": 7,
    "start_time": "2021-06-23T07:21:20.240Z"
   },
   {
    "duration": 190,
    "start_time": "2021-06-23T07:21:25.067Z"
   },
   {
    "duration": 193,
    "start_time": "2021-06-23T07:21:58.442Z"
   },
   {
    "duration": 251,
    "start_time": "2021-06-23T07:22:19.255Z"
   },
   {
    "duration": 232,
    "start_time": "2021-06-23T07:22:25.158Z"
   },
   {
    "duration": 51,
    "start_time": "2021-06-23T07:22:51.109Z"
   },
   {
    "duration": 51,
    "start_time": "2021-06-23T07:30:25.643Z"
   },
   {
    "duration": 977,
    "start_time": "2021-06-23T07:30:37.725Z"
   },
   {
    "duration": 21,
    "start_time": "2021-06-23T07:30:38.704Z"
   },
   {
    "duration": 21,
    "start_time": "2021-06-23T07:30:38.727Z"
   },
   {
    "duration": 2,
    "start_time": "2021-06-23T07:30:38.749Z"
   },
   {
    "duration": 5,
    "start_time": "2021-06-23T07:30:38.753Z"
   },
   {
    "duration": 273,
    "start_time": "2021-06-23T07:30:38.760Z"
   },
   {
    "duration": 8,
    "start_time": "2021-06-23T07:30:39.034Z"
   },
   {
    "duration": 66,
    "start_time": "2021-06-23T07:30:39.044Z"
   },
   {
    "duration": 259,
    "start_time": "2021-06-23T07:39:29.439Z"
   },
   {
    "duration": 406,
    "start_time": "2021-08-02T06:16:56.663Z"
   },
   {
    "duration": 1288,
    "start_time": "2021-08-02T06:17:14.336Z"
   },
   {
    "duration": 38,
    "start_time": "2021-08-02T06:17:15.627Z"
   },
   {
    "duration": 31,
    "start_time": "2021-08-02T06:17:15.669Z"
   },
   {
    "duration": 7,
    "start_time": "2021-08-02T06:17:15.703Z"
   },
   {
    "duration": 4,
    "start_time": "2021-08-02T06:17:15.713Z"
   },
   {
    "duration": 419,
    "start_time": "2021-08-02T06:17:15.719Z"
   },
   {
    "duration": 11,
    "start_time": "2021-08-02T06:17:16.140Z"
   },
   {
    "duration": 404,
    "start_time": "2021-08-02T06:17:16.154Z"
   },
   {
    "duration": 431,
    "start_time": "2021-08-02T06:17:43.553Z"
   },
   {
    "duration": 384,
    "start_time": "2021-08-02T06:18:07.237Z"
   },
   {
    "duration": 393,
    "start_time": "2021-08-02T06:18:13.013Z"
   },
   {
    "duration": 343,
    "start_time": "2021-08-02T06:19:25.191Z"
   },
   {
    "duration": 4,
    "start_time": "2021-08-02T06:19:30.173Z"
   },
   {
    "duration": 30,
    "start_time": "2021-08-02T06:19:36.662Z"
   },
   {
    "duration": 392,
    "start_time": "2021-08-02T18:21:53.075Z"
   },
   {
    "duration": 1363,
    "start_time": "2021-08-02T18:21:59.648Z"
   },
   {
    "duration": 21,
    "start_time": "2021-08-02T18:22:01.013Z"
   },
   {
    "duration": 44,
    "start_time": "2021-08-02T18:22:01.037Z"
   },
   {
    "duration": 11,
    "start_time": "2021-08-02T18:22:01.084Z"
   },
   {
    "duration": 340,
    "start_time": "2021-08-02T18:22:01.097Z"
   },
   {
    "duration": 318,
    "start_time": "2021-08-02T18:22:01.121Z"
   },
   {
    "duration": 314,
    "start_time": "2021-08-02T18:22:01.127Z"
   },
   {
    "duration": 307,
    "start_time": "2021-08-02T18:22:01.135Z"
   },
   {
    "duration": 295,
    "start_time": "2021-08-02T18:24:33.047Z"
   },
   {
    "duration": 253,
    "start_time": "2021-08-02T18:25:50.410Z"
   },
   {
    "duration": 263,
    "start_time": "2021-08-02T18:26:26.426Z"
   },
   {
    "duration": 405,
    "start_time": "2021-08-02T18:26:32.546Z"
   },
   {
    "duration": 406,
    "start_time": "2021-08-02T18:26:55.878Z"
   },
   {
    "duration": 12,
    "start_time": "2021-08-02T18:30:57.608Z"
   },
   {
    "duration": 413,
    "start_time": "2021-08-02T18:31:00.786Z"
   },
   {
    "duration": 410,
    "start_time": "2021-08-02T18:33:58.855Z"
   },
   {
    "duration": 509,
    "start_time": "2021-08-02T18:36:42.648Z"
   },
   {
    "duration": 13,
    "start_time": "2021-08-02T18:37:20.778Z"
   },
   {
    "duration": 264,
    "start_time": "2021-08-02T18:40:24.940Z"
   },
   {
    "duration": 14,
    "start_time": "2021-08-02T18:42:53.188Z"
   },
   {
    "duration": 9,
    "start_time": "2021-08-02T18:42:55.601Z"
   },
   {
    "duration": 439,
    "start_time": "2021-08-02T18:47:09.281Z"
   },
   {
    "duration": 1019,
    "start_time": "2021-08-03T12:26:23.049Z"
   },
   {
    "duration": 18,
    "start_time": "2021-08-03T12:26:24.070Z"
   },
   {
    "duration": 23,
    "start_time": "2021-08-03T12:26:24.090Z"
   },
   {
    "duration": 335,
    "start_time": "2021-08-03T12:26:34.821Z"
   },
   {
    "duration": 6,
    "start_time": "2021-08-03T12:26:43.688Z"
   },
   {
    "duration": 5,
    "start_time": "2021-08-03T12:27:04.604Z"
   },
   {
    "duration": 3,
    "start_time": "2021-08-03T12:27:10.868Z"
   },
   {
    "duration": 5,
    "start_time": "2021-08-03T12:27:15.553Z"
   },
   {
    "duration": 4,
    "start_time": "2021-08-03T12:27:41.794Z"
   },
   {
    "duration": 4,
    "start_time": "2021-08-03T12:27:44.758Z"
   },
   {
    "duration": 7,
    "start_time": "2021-08-03T12:27:53.817Z"
   },
   {
    "duration": 5,
    "start_time": "2021-08-03T12:27:58.492Z"
   },
   {
    "duration": 257,
    "start_time": "2021-08-03T12:37:33.527Z"
   },
   {
    "duration": 5,
    "start_time": "2021-08-03T12:37:40.597Z"
   },
   {
    "duration": 9,
    "start_time": "2021-08-03T12:37:42.647Z"
   },
   {
    "duration": 1506,
    "start_time": "2021-08-03T21:28:12.042Z"
   },
   {
    "duration": 23,
    "start_time": "2021-08-03T21:28:13.551Z"
   },
   {
    "duration": 58,
    "start_time": "2021-08-03T21:28:13.577Z"
   },
   {
    "duration": 9,
    "start_time": "2021-08-03T21:28:13.638Z"
   },
   {
    "duration": 13,
    "start_time": "2021-08-03T21:28:13.650Z"
   },
   {
    "duration": 9,
    "start_time": "2021-08-03T21:28:13.665Z"
   },
   {
    "duration": 14,
    "start_time": "2021-08-03T21:28:13.677Z"
   },
   {
    "duration": 19,
    "start_time": "2021-08-03T21:28:13.695Z"
   },
   {
    "duration": 359,
    "start_time": "2021-08-03T21:28:13.717Z"
   },
   {
    "duration": 13,
    "start_time": "2021-08-03T21:28:14.087Z"
   },
   {
    "duration": 349,
    "start_time": "2021-08-03T21:28:14.103Z"
   },
   {
    "duration": 458,
    "start_time": "2021-08-03T21:28:14.455Z"
   },
   {
    "duration": 404,
    "start_time": "2021-08-03T21:48:13.130Z"
   },
   {
    "duration": 516,
    "start_time": "2021-08-03T21:49:36.614Z"
   },
   {
    "duration": 441,
    "start_time": "2021-08-03T21:50:20.450Z"
   },
   {
    "duration": 5,
    "start_time": "2021-08-03T21:51:35.087Z"
   },
   {
    "duration": 4,
    "start_time": "2021-08-03T21:56:24.611Z"
   },
   {
    "duration": 22,
    "start_time": "2021-08-03T21:56:24.622Z"
   },
   {
    "duration": 22,
    "start_time": "2021-08-03T21:56:24.647Z"
   },
   {
    "duration": 18,
    "start_time": "2021-08-03T21:56:24.671Z"
   },
   {
    "duration": 5,
    "start_time": "2021-08-03T21:56:24.691Z"
   },
   {
    "duration": 11,
    "start_time": "2021-08-03T21:56:24.698Z"
   },
   {
    "duration": 13,
    "start_time": "2021-08-03T21:56:24.711Z"
   },
   {
    "duration": 8,
    "start_time": "2021-08-03T21:56:24.727Z"
   },
   {
    "duration": 386,
    "start_time": "2021-08-03T21:56:24.738Z"
   },
   {
    "duration": 15,
    "start_time": "2021-08-03T21:56:25.127Z"
   },
   {
    "duration": 429,
    "start_time": "2021-08-03T21:56:25.145Z"
   },
   {
    "duration": 353,
    "start_time": "2021-08-03T21:56:25.576Z"
   },
   {
    "duration": 388,
    "start_time": "2021-08-03T21:56:25.931Z"
   },
   {
    "duration": 389,
    "start_time": "2021-08-03T21:58:20.953Z"
   },
   {
    "duration": 15,
    "start_time": "2021-08-03T21:58:49.439Z"
   }
  ],
  "kernelspec": {
   "display_name": "Python 3 (ipykernel)",
   "language": "python",
   "name": "python3"
  },
  "language_info": {
   "codemirror_mode": {
    "name": "ipython",
    "version": 3
   },
   "file_extension": ".py",
   "mimetype": "text/x-python",
   "name": "python",
   "nbconvert_exporter": "python",
   "pygments_lexer": "ipython3",
   "version": "3.9.5"
  },
  "toc": {
   "base_numbering": 1,
   "nav_menu": {},
   "number_sections": true,
   "sideBar": true,
   "skip_h1_title": true,
   "title_cell": "Table of Contents",
   "title_sidebar": "Contents",
   "toc_cell": false,
   "toc_position": {},
   "toc_section_display": true,
   "toc_window_display": false
  }
 },
 "nbformat": 4,
 "nbformat_minor": 2
}
